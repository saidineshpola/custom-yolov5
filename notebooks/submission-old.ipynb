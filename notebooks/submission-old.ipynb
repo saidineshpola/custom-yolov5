{
 "cells": [
  {
   "cell_type": "markdown",
   "metadata": {},
   "source": [
    "## Submission"
   ]
  },
  {
   "cell_type": "code",
   "execution_count": 1,
   "metadata": {},
   "outputs": [
    {
     "name": "stderr",
     "output_type": "stream",
     "text": [
      "bash: line 8: mosquitoalert-2023-phase-2-submission-kit: command not found\n"
     ]
    },
    {
     "name": "stdout",
     "output_type": "stream",
     "text": [
      "Username saidinesh_pola\n"
     ]
    },
    {
     "name": "stdout",
     "output_type": "stream",
     "text": [
      "Tracking \"*.pt\"\n",
      "[master 37dafec] yolov5s_elu_e59v0_1\n",
      " 5 files changed, 13 insertions(+), 5 deletions(-)\n",
      " rename notebooks/submission.ipynb => submission.ipynb (97%)\n",
      " create mode 100755 training.sh\n",
      "Error while terminating subprocess (pid=964016): \n"
     ]
    }
   ],
   "source": [
    "%%bash\n",
    "\n",
    "## Set your unique tag for this submission (no spaces), example:\n",
    "# export MSG=\"v1\"\n",
    "# or something more informative...\n",
    "export MSG=\"yolov5s_elu_e59v0_1\"\n",
    "\n",
    "username='saidinesh_pola'\n",
    "repo_name= 'mosquitoalert-2023-phase-2-submission-kit'\n",
    "echo \"Username $username\"\n",
    "\n",
    "\n",
    "cd /mosquitoalert-2023-phase-2-submission-kit\n",
    "# Change this to your required model formats\n",
    "git lfs track \"*.pt\"\n",
    "git add .gitattributes\n",
    "git add --all\n",
    "git commit -m \"$MSG\" || true\n",
    "\n",
    "find . -type f -size +5M -exec git lfs migrate import --include={} &> /dev/null \\;\n",
    "\n",
    "git tag -am \"submission_$MSG\" \"submission_$MSG\"\n",
    "git config lfs.https://gitlab.aicrowd.com/$username/$repo_name.git/info/lfs.locksverify false\n",
    "\n",
    "git remote remove origin\n",
    "git remote add origin git@gitlab.aicrowd.com:$username/$repo_name.git\n",
    "\n",
    "git lfs push origin master\n",
    "git push origin master\n",
    "git push origin \"submission_$MSG\"\n",
    "\n",
    "echo \"Track your submission status here: https://gitlab.aicrowd.com/$username/$repo_name/issues\""
   ]
  },
  {
   "cell_type": "code",
   "execution_count": null,
   "metadata": {},
   "outputs": [],
   "source": []
  }
 ],
 "metadata": {
  "kernelspec": {
   "display_name": "mmdet",
   "language": "python",
   "name": "python3"
  },
  "language_info": {
   "codemirror_mode": {
    "name": "ipython",
    "version": 3
   },
   "file_extension": ".py",
   "mimetype": "text/x-python",
   "name": "python",
   "nbconvert_exporter": "python",
   "pygments_lexer": "ipython3",
   "version": "3.9.16"
  },
  "orig_nbformat": 4
 },
 "nbformat": 4,
 "nbformat_minor": 2
}
