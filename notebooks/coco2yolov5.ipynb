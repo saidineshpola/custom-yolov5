{
  "cells": [
    {
      "cell_type": "markdown",
      "metadata": {
        "id": "Cxi8K9mXwl5t"
      },
      "source": [
        "# Convert Coco JSON Annotations to YOLO TXT Files\n",
        "Use this notebook to try out importing, analyzing, and exporting datasets of image annotations. "
      ]
    },
    {
      "cell_type": "code",
      "execution_count": 1,
      "metadata": {},
      "outputs": [
        {
          "name": "stdout",
          "output_type": "stream",
          "text": [
            "\u001b[31mERROR: pip's dependency resolver does not currently take into account all the packages that are installed. This behaviour is the source of the following dependency conflicts.\n",
            "aicrowd-cli 0.1.15 requires click<8,>=7.1.2, but you have click 8.0.4 which is incompatible.\n",
            "aicrowd-cli 0.1.15 requires pyzmq==22.1.0, but you have pyzmq 25.1.1 which is incompatible.\u001b[0m\u001b[31m\n",
            "\u001b[0m"
          ]
        }
      ],
      "source": [
        "import logging\n",
        "logging.getLogger().setLevel(logging.CRITICAL)\n",
        "!pip install pylabel > /dev/null"
      ]
    },
    {
      "cell_type": "markdown",
      "metadata": {},
      "source": [
        "## Import coco annotations \n",
        "First we will import annotations from the coco dataset, which are in coco json format. "
      ]
    },
    {
      "cell_type": "code",
      "execution_count": 7,
      "metadata": {},
      "outputs": [
        {
          "data": {
            "text/html": [
              "<div>\n",
              "<style scoped>\n",
              "    .dataframe tbody tr th:only-of-type {\n",
              "        vertical-align: middle;\n",
              "    }\n",
              "\n",
              "    .dataframe tbody tr th {\n",
              "        vertical-align: top;\n",
              "    }\n",
              "\n",
              "    .dataframe thead th {\n",
              "        text-align: right;\n",
              "    }\n",
              "</style>\n",
              "<table border=\"1\" class=\"dataframe\">\n",
              "  <thead>\n",
              "    <tr style=\"text-align: right;\">\n",
              "      <th></th>\n",
              "      <th>img_folder</th>\n",
              "      <th>img_filename</th>\n",
              "      <th>img_path</th>\n",
              "      <th>img_id</th>\n",
              "      <th>img_width</th>\n",
              "      <th>img_height</th>\n",
              "      <th>img_depth</th>\n",
              "      <th>ann_segmented</th>\n",
              "      <th>ann_bbox_xmin</th>\n",
              "      <th>ann_bbox_ymin</th>\n",
              "      <th>...</th>\n",
              "      <th>ann_iscrowd</th>\n",
              "      <th>ann_keypoints</th>\n",
              "      <th>ann_pose</th>\n",
              "      <th>ann_truncated</th>\n",
              "      <th>ann_difficult</th>\n",
              "      <th>cat_id</th>\n",
              "      <th>cat_name</th>\n",
              "      <th>cat_supercategory</th>\n",
              "      <th>split</th>\n",
              "      <th>annotated</th>\n",
              "    </tr>\n",
              "    <tr>\n",
              "      <th>id</th>\n",
              "      <th></th>\n",
              "      <th></th>\n",
              "      <th></th>\n",
              "      <th></th>\n",
              "      <th></th>\n",
              "      <th></th>\n",
              "      <th></th>\n",
              "      <th></th>\n",
              "      <th></th>\n",
              "      <th></th>\n",
              "      <th></th>\n",
              "      <th></th>\n",
              "      <th></th>\n",
              "      <th></th>\n",
              "      <th></th>\n",
              "      <th></th>\n",
              "      <th></th>\n",
              "      <th></th>\n",
              "      <th></th>\n",
              "      <th></th>\n",
              "      <th></th>\n",
              "    </tr>\n",
              "  </thead>\n",
              "  <tbody>\n",
              "    <tr>\n",
              "      <th>0</th>\n",
              "      <td>datasets/phase2_train_v0/images</td>\n",
              "      <td>train_00071.jpeg</td>\n",
              "      <td></td>\n",
              "      <td>71</td>\n",
              "      <td>3024</td>\n",
              "      <td>4032</td>\n",
              "      <td></td>\n",
              "      <td></td>\n",
              "      <td>931.0</td>\n",
              "      <td>2208.0</td>\n",
              "      <td>...</td>\n",
              "      <td>0</td>\n",
              "      <td></td>\n",
              "      <td></td>\n",
              "      <td></td>\n",
              "      <td></td>\n",
              "      <td>1</td>\n",
              "      <td>albopictus</td>\n",
              "      <td></td>\n",
              "      <td></td>\n",
              "      <td>1</td>\n",
              "    </tr>\n",
              "    <tr>\n",
              "      <th>1</th>\n",
              "      <td>datasets/phase2_train_v0/images</td>\n",
              "      <td>train_00106.jpeg</td>\n",
              "      <td></td>\n",
              "      <td>106</td>\n",
              "      <td>1094</td>\n",
              "      <td>1675</td>\n",
              "      <td></td>\n",
              "      <td></td>\n",
              "      <td>232.0</td>\n",
              "      <td>443.0</td>\n",
              "      <td>...</td>\n",
              "      <td>0</td>\n",
              "      <td></td>\n",
              "      <td></td>\n",
              "      <td></td>\n",
              "      <td></td>\n",
              "      <td>1</td>\n",
              "      <td>albopictus</td>\n",
              "      <td></td>\n",
              "      <td></td>\n",
              "      <td>1</td>\n",
              "    </tr>\n",
              "    <tr>\n",
              "      <th>2</th>\n",
              "      <td>datasets/phase2_train_v0/images</td>\n",
              "      <td>train_00228.jpeg</td>\n",
              "      <td></td>\n",
              "      <td>228</td>\n",
              "      <td>4128</td>\n",
              "      <td>2322</td>\n",
              "      <td></td>\n",
              "      <td></td>\n",
              "      <td>1914.0</td>\n",
              "      <td>1048.0</td>\n",
              "      <td>...</td>\n",
              "      <td>0</td>\n",
              "      <td></td>\n",
              "      <td></td>\n",
              "      <td></td>\n",
              "      <td></td>\n",
              "      <td>1</td>\n",
              "      <td>albopictus</td>\n",
              "      <td></td>\n",
              "      <td></td>\n",
              "      <td>1</td>\n",
              "    </tr>\n",
              "    <tr>\n",
              "      <th>3</th>\n",
              "      <td>datasets/phase2_train_v0/images</td>\n",
              "      <td>train_00381.jpeg</td>\n",
              "      <td></td>\n",
              "      <td>381</td>\n",
              "      <td>2448</td>\n",
              "      <td>3264</td>\n",
              "      <td></td>\n",
              "      <td></td>\n",
              "      <td>1201.0</td>\n",
              "      <td>1593.0</td>\n",
              "      <td>...</td>\n",
              "      <td>0</td>\n",
              "      <td></td>\n",
              "      <td></td>\n",
              "      <td></td>\n",
              "      <td></td>\n",
              "      <td>1</td>\n",
              "      <td>albopictus</td>\n",
              "      <td></td>\n",
              "      <td></td>\n",
              "      <td>1</td>\n",
              "    </tr>\n",
              "    <tr>\n",
              "      <th>4</th>\n",
              "      <td>datasets/phase2_train_v0/images</td>\n",
              "      <td>train_00406.jpeg</td>\n",
              "      <td></td>\n",
              "      <td>406</td>\n",
              "      <td>718</td>\n",
              "      <td>958</td>\n",
              "      <td></td>\n",
              "      <td></td>\n",
              "      <td>60.0</td>\n",
              "      <td>188.0</td>\n",
              "      <td>...</td>\n",
              "      <td>0</td>\n",
              "      <td></td>\n",
              "      <td></td>\n",
              "      <td></td>\n",
              "      <td></td>\n",
              "      <td>1</td>\n",
              "      <td>albopictus</td>\n",
              "      <td></td>\n",
              "      <td></td>\n",
              "      <td>1</td>\n",
              "    </tr>\n",
              "  </tbody>\n",
              "</table>\n",
              "<p>5 rows × 26 columns</p>\n",
              "</div>"
            ],
            "text/plain": [
              "                         img_folder      img_filename img_path  img_id  \\\n",
              "id                                                                       \n",
              "0   datasets/phase2_train_v0/images  train_00071.jpeg               71   \n",
              "1   datasets/phase2_train_v0/images  train_00106.jpeg              106   \n",
              "2   datasets/phase2_train_v0/images  train_00228.jpeg              228   \n",
              "3   datasets/phase2_train_v0/images  train_00381.jpeg              381   \n",
              "4   datasets/phase2_train_v0/images  train_00406.jpeg              406   \n",
              "\n",
              "    img_width  img_height img_depth ann_segmented  ann_bbox_xmin  \\\n",
              "id                                                                 \n",
              "0        3024        4032                                  931.0   \n",
              "1        1094        1675                                  232.0   \n",
              "2        4128        2322                                 1914.0   \n",
              "3        2448        3264                                 1201.0   \n",
              "4         718         958                                   60.0   \n",
              "\n",
              "    ann_bbox_ymin  ...  ann_iscrowd  ann_keypoints  ann_pose  ann_truncated  \\\n",
              "id                 ...                                                        \n",
              "0          2208.0  ...            0                                           \n",
              "1           443.0  ...            0                                           \n",
              "2          1048.0  ...            0                                           \n",
              "3          1593.0  ...            0                                           \n",
              "4           188.0  ...            0                                           \n",
              "\n",
              "    ann_difficult cat_id    cat_name cat_supercategory split annotated  \n",
              "id                                                                      \n",
              "0                      1  albopictus                                 1  \n",
              "1                      1  albopictus                                 1  \n",
              "2                      1  albopictus                                 1  \n",
              "3                      1  albopictus                                 1  \n",
              "4                      1  albopictus                                 1  \n",
              "\n",
              "[5 rows x 26 columns]"
            ]
          },
          "execution_count": 7,
          "metadata": {},
          "output_type": "execute_result"
        }
      ],
      "source": [
        "import os \n",
        "import zipfile\n",
        "from pylabel import importer\n",
        "#Download sample  dataset \n",
        "os.makedirs(\"data\", exist_ok=True)\n",
        "\n",
        "\n",
        "#Specify path to the coco.json file\n",
        "path_to_annotations = \"datasets/phase2_train_v0/coco_val_annotation.json\"\n",
        "#Specify the path to the images (if they are in a different folder than the annotations)\n",
        "path_to_images = \"datasets/phase2_train_v0/images\"\n",
        "\n",
        "#Import the dataset into the pylable schema \n",
        "dataset = importer.ImportCoco(path_to_annotations, path_to_images=path_to_images, name=\"BCCD_coco\")\n",
        "dataset.df.head(5)\n"
      ]
    },
    {
      "cell_type": "markdown",
      "metadata": {},
      "source": [
        "## Analyze annotations\n",
        "Pylabel can calculate basic summary statisticts about the dataset such as the number of files and the classes. \n",
        "The dataset is stored as a pandas frame so the developer can do additional exploratory analysis on the dataset. "
      ]
    },
    {
      "cell_type": "code",
      "execution_count": 8,
      "metadata": {
        "colab": {
          "base_uri": "https://localhost:8080/"
        },
        "id": "5R1rOJVL420b",
        "outputId": "ae94525b-c6d5-4a4f-d56d-7f1bd29a7411"
      },
      "outputs": [
        {
          "name": "stdout",
          "output_type": "stream",
          "text": [
            "Number of images: 516\n",
            "Number of classes: 6\n",
            "Classes:['aegypti', 'albopictus', 'anopheles', 'culex', 'culiseta', 'japonicus/koreicus']\n",
            "Class counts:\n",
            "cat_name\n",
            "albopictus            230\n",
            "culex                 228\n",
            "culiseta               31\n",
            "japonicus/koreicus     21\n",
            "anopheles               4\n",
            "aegypti                 2\n",
            "Name: count, dtype: int64\n",
            "Path to annotations:\n",
            "datasets/phase2_train_v0\n"
          ]
        }
      ],
      "source": [
        "print(f\"Number of images: {dataset.analyze.num_images}\")\n",
        "print(f\"Number of classes: {dataset.analyze.num_classes}\")\n",
        "print(f\"Classes:{dataset.analyze.classes}\")\n",
        "print(f\"Class counts:\\n{dataset.analyze.class_counts}\")\n",
        "print(f\"Path to annotations:\\n{dataset.path_to_annotations}\")\n"
      ]
    },
    {
      "cell_type": "markdown",
      "metadata": {},
      "source": [
        "## Visualize Annotations \n",
        "You can render the bounding boxes for your image to inspect them and confirm that they imported correctly.  "
      ]
    },
    {
      "cell_type": "code",
      "execution_count": null,
      "metadata": {},
      "outputs": [],
      "source": [
        "from IPython.display import Image, display\n",
        "display(dataset.visualize.ShowBoundingBoxes(100))\n",
        "display(dataset.visualize.ShowBoundingBoxes(\"datasets/train/trimmed_images/0a1dba18-4767-4526-a3b3-70ba7d0560fb.jpeg\"))"
      ]
    },
    {
      "cell_type": "markdown",
      "metadata": {},
      "source": [
        "# Export to Yolo v5\n",
        "The PyLabel exporter will export all of the annotations in the dataframe to the desired target format.\n",
        "Yolo creates one text file for each image in the dataset. "
      ]
    },
    {
      "cell_type": "code",
      "execution_count": null,
      "metadata": {},
      "outputs": [],
      "source": [
        "dataset.path_to_annotations = \"datasets/yolo\"\n",
        "dataset.export.ExportToYoloV5()"
      ]
    },
    {
      "cell_type": "markdown",
      "metadata": {},
      "source": [
        "# Moving Folders (Try to seaprate them in main folder in future)"
      ]
    },
    {
      "cell_type": "code",
      "execution_count": 10,
      "metadata": {},
      "outputs": [
        {
          "name": "stdout",
          "output_type": "stream",
          "text": [
            "Copying completed.\n"
          ]
        }
      ],
      "source": [
        "import os\n",
        "import shutil\n",
        "\n",
        "train_folder = 'datasets/phase2_train_v0/images'\n",
        "labels_folder = 'datasets/val/labels'\n",
        "val_folder = 'datasets/val/images' # Destination folder\n",
        "\n",
        "# Create the val folder if it doesn't exist\n",
        "if not os.path.exists(val_folder):\n",
        "    os.makedirs(val_folder)\n",
        "\n",
        "# Get a list of txt files in the labels folder\n",
        "txt_files = [file for file in os.listdir(labels_folder) if file.endswith('.txt')]\n",
        "\n",
        "# Copy corresponding image files to the val folder\n",
        "for txt_file in txt_files:\n",
        "    image_filename = os.path.splitext(txt_file)[0] + '.jpeg'  # Assuming images have the same name with .jpg extension\n",
        "    src_image_path = os.path.join(train_folder, image_filename)\n",
        "    dest_image_path = os.path.join(val_folder, image_filename)\n",
        "\n",
        "    if os.path.exists(src_image_path):\n",
        "        shutil.copy(src_image_path, dest_image_path)\n",
        "        \n",
        "\n",
        "print(\"Copying completed.\")\n"
      ]
    },
    {
      "cell_type": "markdown",
      "metadata": {},
      "source": [
        "# fiftyone data visualisation"
      ]
    },
    {
      "cell_type": "code",
      "execution_count": null,
      "metadata": {},
      "outputs": [],
      "source": [
        "import fiftyone as fo\n",
        "name = \"my-dataset\"\n",
        "dataset_dir = \"datasets/\"\n",
        "\n",
        "# The splits to load\n",
        "splits = [\"train\", \"val\"]\n",
        "try:\n",
        "    dataset = fo.load_dataset(name)\n",
        "    dataset.delete()\n",
        "except:\n",
        "    pass\n",
        "dataset = fo.Dataset(name)    \n",
        "for split in splits:\n",
        "    dataset.add_dir(\n",
        "        dataset_dir=dataset_dir,\n",
        "        dataset_type=fo.types.YOLOv5Dataset,\n",
        "        split=split,\n",
        "        tags=split,\n",
        ")\n",
        "\n",
        "# Get some summary information about the dataset\n",
        "print(dataset.info)\n",
        "print(dataset.stats)\n",
        "#session = fo.Session(dataset=dataset)"
      ]
    },
    {
      "cell_type": "code",
      "execution_count": null,
      "metadata": {},
      "outputs": [],
      "source": [
        "from fiftyone import ViewField as F\n",
        "\n",
        "# Include only samples with the given IDs in the view\n",
        "small_images_view = dataset.match(F(\"filepath\") == '/home/saidinesh/Desktop/Projects/yolov5/datasets/train/images/train_10160.jpeg' )\n",
        "session = fo.Session(dataset=small_images_view)"
      ]
    },
    {
      "cell_type": "code",
      "execution_count": null,
      "metadata": {},
      "outputs": [],
      "source": []
    }
  ],
  "metadata": {
    "colab": {
      "collapsed_sections": [],
      "name": "import2.ipynb",
      "provenance": []
    },
    "interpreter": {
      "hash": "de5e368ab5494158da905fb8b1c2e4fef8844fbfaace7cceca0beab983df3a80"
    },
    "kernelspec": {
      "display_name": "Python 3.8.5 64-bit ('penv': venv)",
      "name": "python3"
    },
    "language_info": {
      "codemirror_mode": {
        "name": "ipython",
        "version": 3
      },
      "file_extension": ".py",
      "mimetype": "text/x-python",
      "name": "python",
      "nbconvert_exporter": "python",
      "pygments_lexer": "ipython3",
      "version": "3.9.16"
    }
  },
  "nbformat": 4,
  "nbformat_minor": 2
}
