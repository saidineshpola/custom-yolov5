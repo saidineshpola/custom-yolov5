{
 "cells": [
  {
   "cell_type": "markdown",
   "metadata": {},
   "source": [
    "## Submission"
   ]
  },
  {
   "cell_type": "code",
   "execution_count": 3,
   "metadata": {},
   "outputs": [
    {
     "name": "stderr",
     "output_type": "stream",
     "text": [
      "bash: line 8: mosquitoalert-2023-phase-2-submission-kit: command not found\n"
     ]
    },
    {
     "name": "stdout",
     "output_type": "stream",
     "text": [
      "Username saidinesh_pola\n"
     ]
    },
    {
     "name": "stdout",
     "output_type": "stream",
     "text": [
      "\"*.pt\" already supported\n",
      "On branch master\n",
      "nothing to commit, working tree clean\n",
      "Error while terminating subprocess (pid=56831): \n"
     ]
    },
    {
     "name": "stderr",
     "output_type": "stream",
     "text": [
      "batch request: remote: \n",
      "remote: ========================================================================\n",
      "remote: \n",
      "remote: The namespace you were looking for could not be found.\n",
      "remote: \n",
      "remote: ========================================================================\n",
      "remote:: exit status 1\n",
      "remote: \n",
      "remote: ========================================================================\n",
      "remote: \n",
      "remote: The namespace you were looking for could not be found.\n",
      "remote: \n",
      "remote: ========================================================================\n",
      "remote: \n",
      "fatal: Could not read from remote repository.\n",
      "\n",
      "Please make sure you have the correct access rights\n",
      "and the repository exists.\n",
      "remote: \n",
      "remote: ========================================================================\n",
      "remote: \n",
      "remote: The namespace you were looking for could not be found.\n",
      "remote: \n",
      "remote: ========================================================================\n",
      "remote: \n",
      "fatal: Could not read from remote repository.\n",
      "\n",
      "Please make sure you have the correct access rights\n",
      "and the repository exists.\n"
     ]
    },
    {
     "name": "stdout",
     "output_type": "stream",
     "text": [
      "Track your submission status here: https://gitlab.aicrowd.com/saidinesh_pola//issues\n"
     ]
    }
   ],
   "source": [
    "%%bash\n",
    "\n",
    "## Set your unique tag for this submission (no spaces), example:\n",
    "# export MSG=\"v1\"\n",
    "# or something more informative...\n",
    "export MSG=\"yolov5s_baseline_v0_2\"\n",
    "\n",
    "username='saidinesh_pola'\n",
    "repo_name= 'mosquitoalert-2023-phase-2-submission-kit'\n",
    "echo \"Username $username\"\n",
    "\n",
    "\n",
    "cd ../mosquitoalert-2023-phase-2-submission-kit\n",
    "# Change this to your required model formats\n",
    "git lfs track \"*.pt\"\n",
    "git add .gitattributes\n",
    "git add --all\n",
    "git commit -m \"$MSG\" || true\n",
    "\n",
    "find . -type f -size +5M -exec git lfs migrate import --include={} &> /dev/null \\;\n",
    "\n",
    "git tag -am \"submission_$MSG\" \"submission_$MSG\"\n",
    "git config lfs.https://gitlab.aicrowd.com/$username/$repo_name.git/info/lfs.locksverify false\n",
    "\n",
    "git remote remove origin\n",
    "git remote add origin git@gitlab.aicrowd.com:$username/$repo_name.git\n",
    "\n",
    "git lfs push origin master\n",
    "git push origin master\n",
    "git push origin \"submission_$MSG\"\n",
    "\n",
    "echo \"Track your submission status here: https://gitlab.aicrowd.com/$username/$repo_name/issues\""
   ]
  },
  {
   "cell_type": "code",
   "execution_count": null,
   "metadata": {},
   "outputs": [],
   "source": []
  }
 ],
 "metadata": {
  "kernelspec": {
   "display_name": "mmdet",
   "language": "python",
   "name": "python3"
  },
  "language_info": {
   "codemirror_mode": {
    "name": "ipython",
    "version": 3
   },
   "file_extension": ".py",
   "mimetype": "text/x-python",
   "name": "python",
   "nbconvert_exporter": "python",
   "pygments_lexer": "ipython3",
   "version": "3.9.16"
  },
  "orig_nbformat": 4
 },
 "nbformat": 4,
 "nbformat_minor": 2
}
